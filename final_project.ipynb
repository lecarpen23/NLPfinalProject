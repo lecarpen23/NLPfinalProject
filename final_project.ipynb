{
 "cells": [
  {
   "cell_type": "markdown",
   "metadata": {},
   "source": [
    "## ANLY-580 Final Project\n",
    "\n",
    "**Authors**\n",
    "\n",
    "* Eduardo Armenta\n",
    "* Landon Carpenter\n",
    "* Matthew Moriarty\n",
    "\n",
    "This notebook contains the code required for building a neural model that generates its own Python scripts.\n",
    "\n",
    "<br>"
   ]
  },
  {
   "cell_type": "markdown",
   "metadata": {},
   "source": [
    "### Load Necessary Libraries\n",
    "\n",
    "There are several libraries that we need in order to complete this task, and we load them below."
   ]
  },
  {
   "cell_type": "code",
   "execution_count": 1,
   "metadata": {},
   "outputs": [],
   "source": [
    "# load necessary libraries\n",
    "import numpy as np\n",
    "import pandas as pd"
   ]
  },
  {
   "cell_type": "markdown",
   "metadata": {},
   "source": [
    "### Read in the Training Data"
   ]
  },
  {
   "cell_type": "code",
   "execution_count": 12,
   "metadata": {},
   "outputs": [],
   "source": [
    "# read in the training data\n",
    "with open('pythonTextData.txt', 'r') as f:\n",
    "    lines = f.readlines()"
   ]
  },
  {
   "cell_type": "code",
   "execution_count": 18,
   "metadata": {},
   "outputs": [
    {
     "data": {
      "text/plain": [
       "42745"
      ]
     },
     "execution_count": 18,
     "metadata": {},
     "output_type": "execute_result"
    }
   ],
   "source": [
    "len(lines)"
   ]
  },
  {
   "cell_type": "code",
   "execution_count": 16,
   "metadata": {},
   "outputs": [
    {
     "name": "stdout",
     "output_type": "stream",
     "text": [
      "line 5 is an empty line\n",
      "line 6 is an empty line\n",
      "line 11 is an empty line\n",
      "line 12 is an empty line\n",
      "line 14 is an empty line\n",
      "line 25 is an empty line\n",
      "line 26 is an empty line\n"
     ]
    }
   ],
   "source": [
    "for i in range(30):\n",
    "    if(lines[i] == '\\n'):\n",
    "        print('line', i, 'is an empty line')"
   ]
  },
  {
   "cell_type": "code",
   "execution_count": 17,
   "metadata": {},
   "outputs": [
    {
     "data": {
      "text/plain": [
       "['# write a python program to add two numbers \\n',\n",
       " 'num1 = 1.5\\n',\n",
       " 'num2 = 6.3\\n',\n",
       " 'sum = num1 + num2\\n',\n",
       " \"print(f'Sum: {sum}')\\n\",\n",
       " '\\n',\n",
       " '\\n',\n",
       " '# write a python function to add two user provided numbers and return the sum\\n',\n",
       " 'def add_two_numbers(num1, num2):\\n',\n",
       " '    sum = num1 + num2\\n',\n",
       " '    return sum\\n',\n",
       " '\\n',\n",
       " '\\n',\n",
       " '# write a program to find and print the largest among three numbers\\n',\n",
       " '\\n',\n",
       " 'num1 = 10\\n',\n",
       " 'num2 = 12\\n',\n",
       " 'num3 = 14\\n',\n",
       " 'if (num1 >= num2) and (num1 >= num3):\\n',\n",
       " '   largest = num1\\n',\n",
       " 'elif (num2 >= num1) and (num2 >= num3):\\n',\n",
       " '   largest = num2\\n',\n",
       " 'else:\\n',\n",
       " '   largest = num3\\n',\n",
       " \"print(f'largest:{largest}')\\n\",\n",
       " '\\n',\n",
       " '\\n',\n",
       " '# write a program to find and print the smallest among three numbers\\n',\n",
       " 'num1 = 10\\n',\n",
       " 'num2 = 12\\n']"
      ]
     },
     "execution_count": 17,
     "metadata": {},
     "output_type": "execute_result"
    }
   ],
   "source": [
    "lines[:30]"
   ]
  },
  {
   "cell_type": "code",
   "execution_count": null,
   "metadata": {},
   "outputs": [],
   "source": []
  }
 ],
 "metadata": {
  "kernelspec": {
   "display_name": "Python 3.9.13 ('anly580')",
   "language": "python",
   "name": "python3"
  },
  "language_info": {
   "codemirror_mode": {
    "name": "ipython",
    "version": 3
   },
   "file_extension": ".py",
   "mimetype": "text/x-python",
   "name": "python",
   "nbconvert_exporter": "python",
   "pygments_lexer": "ipython3",
   "version": "3.9.13"
  },
  "orig_nbformat": 4,
  "vscode": {
   "interpreter": {
    "hash": "666bd798a58c5d2b7df3231dac152853052b2005932bdc65e52597e40e5e1dd7"
   }
  }
 },
 "nbformat": 4,
 "nbformat_minor": 2
}
