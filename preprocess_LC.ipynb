{
 "cells": [
  {
   "cell_type": "code",
   "execution_count": 59,
   "metadata": {},
   "outputs": [],
   "source": [
    "import numpy as np\n",
    "import pandas as pd\n",
    "import nltk"
   ]
  },
  {
   "cell_type": "code",
   "execution_count": 60,
   "metadata": {},
   "outputs": [
    {
     "data": {
      "text/plain": [
       "['# write a python program to add two numbers \\n',\n",
       " 'num1 = 1.5\\n',\n",
       " 'num2 = 6.3\\n',\n",
       " 'sum = num1 + num2\\n',\n",
       " \"print(f'Sum: {sum}')\\n\",\n",
       " '\\n',\n",
       " '\\n',\n",
       " '# write a python function to add two user provided numbers and return the sum\\n',\n",
       " 'def add_two_numbers(num1, num2):\\n',\n",
       " '    sum = num1 + num2\\n',\n",
       " '    return sum\\n',\n",
       " '\\n',\n",
       " '\\n',\n",
       " '# write a program to find and print the largest among three numbers\\n',\n",
       " '\\n',\n",
       " 'num1 = 10\\n',\n",
       " 'num2 = 12\\n',\n",
       " 'num3 = 14\\n',\n",
       " 'if (num1 >= num2) and (num1 >= num3):\\n',\n",
       " '   largest = num1\\n',\n",
       " 'elif (num2 >= num1) and (num2 >= num3):\\n',\n",
       " '   largest = num2\\n',\n",
       " 'else:\\n',\n",
       " '   largest = num3\\n',\n",
       " \"print(f'largest:{largest}')\\n\"]"
      ]
     },
     "execution_count": 60,
     "metadata": {},
     "output_type": "execute_result"
    }
   ],
   "source": [
    "#open pythonTextData.txt and read lines and set decoding to utf-8\n",
    "with open('pythonTextData.txt', 'r', encoding='utf-8') as f:\n",
    "    lines = f.readlines()\n",
    "\n",
    "#show the first 10 lines\n",
    "lines[:25]\n"
   ]
  },
  {
   "cell_type": "code",
   "execution_count": 61,
   "metadata": {},
   "outputs": [],
   "source": [
    "test_lines = lines[:100]"
   ]
  },
  {
   "cell_type": "code",
   "execution_count": 62,
   "metadata": {},
   "outputs": [],
   "source": [
    "list = []\n",
    "i = 0\n",
    "df = pd.DataFrame(columns=['src', 'tgt'])\n",
    "for line in lines:\n",
    "    if line.startswith('#'):\n",
    "        src = line\n",
    "        #append src to df at index i\n",
    "        df.loc[i, 'src'] = src\n",
    "        i += 1\n",
    "    else:\n",
    "        #append line to df at index i without deleting the previous line\n",
    "        df.loc[i-1, 'tgt'] = str(df.loc[i-1, 'tgt']) + \", \" + str(line)"
   ]
  },
  {
   "cell_type": "code",
   "execution_count": 63,
   "metadata": {},
   "outputs": [
    {
     "name": "stdout",
     "output_type": "stream",
     "text": [
      "4958\n"
     ]
    },
    {
     "data": {
      "text/html": [
       "<div>\n",
       "<style scoped>\n",
       "    .dataframe tbody tr th:only-of-type {\n",
       "        vertical-align: middle;\n",
       "    }\n",
       "\n",
       "    .dataframe tbody tr th {\n",
       "        vertical-align: top;\n",
       "    }\n",
       "\n",
       "    .dataframe thead th {\n",
       "        text-align: right;\n",
       "    }\n",
       "</style>\n",
       "<table border=\"1\" class=\"dataframe\">\n",
       "  <thead>\n",
       "    <tr style=\"text-align: right;\">\n",
       "      <th></th>\n",
       "      <th>src</th>\n",
       "      <th>tgt</th>\n",
       "    </tr>\n",
       "  </thead>\n",
       "  <tbody>\n",
       "    <tr>\n",
       "      <th>0</th>\n",
       "      <td># write a python program to add two numbers \\n</td>\n",
       "      <td>nan, num1 = 1.5\\n, num2 = 6.3\\n, sum = num1 + ...</td>\n",
       "    </tr>\n",
       "    <tr>\n",
       "      <th>1</th>\n",
       "      <td># write a python function to add two user prov...</td>\n",
       "      <td>nan, def add_two_numbers(num1, num2):\\n,     s...</td>\n",
       "    </tr>\n",
       "    <tr>\n",
       "      <th>2</th>\n",
       "      <td># write a program to find and print the larges...</td>\n",
       "      <td>nan, \\n, num1 = 10\\n, num2 = 12\\n, num3 = 14\\n...</td>\n",
       "    </tr>\n",
       "    <tr>\n",
       "      <th>3</th>\n",
       "      <td># write a program to find and print the smalle...</td>\n",
       "      <td>nan, num1 = 10\\n, num2 = 12\\n, num3 = 14\\n, if...</td>\n",
       "    </tr>\n",
       "    <tr>\n",
       "      <th>4</th>\n",
       "      <td># Write a python function to merge two given l...</td>\n",
       "      <td>nan, def merge_lists(l1, l2):\\n,     return l1...</td>\n",
       "    </tr>\n",
       "  </tbody>\n",
       "</table>\n",
       "</div>"
      ],
      "text/plain": [
       "                                                 src  \\\n",
       "0     # write a python program to add two numbers \\n   \n",
       "1  # write a python function to add two user prov...   \n",
       "2  # write a program to find and print the larges...   \n",
       "3  # write a program to find and print the smalle...   \n",
       "4  # Write a python function to merge two given l...   \n",
       "\n",
       "                                                 tgt  \n",
       "0  nan, num1 = 1.5\\n, num2 = 6.3\\n, sum = num1 + ...  \n",
       "1  nan, def add_two_numbers(num1, num2):\\n,     s...  \n",
       "2  nan, \\n, num1 = 10\\n, num2 = 12\\n, num3 = 14\\n...  \n",
       "3  nan, num1 = 10\\n, num2 = 12\\n, num3 = 14\\n, if...  \n",
       "4  nan, def merge_lists(l1, l2):\\n,     return l1...  "
      ]
     },
     "execution_count": 63,
     "metadata": {},
     "output_type": "execute_result"
    }
   ],
   "source": [
    "print(len(df))\n",
    "df.head()"
   ]
  },
  {
   "cell_type": "code",
   "execution_count": 64,
   "metadata": {},
   "outputs": [
    {
     "data": {
      "text/html": [
       "<div>\n",
       "<style scoped>\n",
       "    .dataframe tbody tr th:only-of-type {\n",
       "        vertical-align: middle;\n",
       "    }\n",
       "\n",
       "    .dataframe tbody tr th {\n",
       "        vertical-align: top;\n",
       "    }\n",
       "\n",
       "    .dataframe thead th {\n",
       "        text-align: right;\n",
       "    }\n",
       "</style>\n",
       "<table border=\"1\" class=\"dataframe\">\n",
       "  <thead>\n",
       "    <tr style=\"text-align: right;\">\n",
       "      <th></th>\n",
       "      <th>src</th>\n",
       "      <th>tgt</th>\n",
       "    </tr>\n",
       "  </thead>\n",
       "  <tbody>\n",
       "    <tr>\n",
       "      <th>0</th>\n",
       "      <td># write a python program to add two numbers \\n</td>\n",
       "      <td>[nan,  num1 = 1.5\\n,  num2 = 6.3\\n,  sum = num...</td>\n",
       "    </tr>\n",
       "    <tr>\n",
       "      <th>1</th>\n",
       "      <td># write a python function to add two user prov...</td>\n",
       "      <td>[nan,  def add_two_numbers(num1,  num2):\\n,   ...</td>\n",
       "    </tr>\n",
       "    <tr>\n",
       "      <th>2</th>\n",
       "      <td># write a program to find and print the larges...</td>\n",
       "      <td>[nan,  \\n,  num1 = 10\\n,  num2 = 12\\n,  num3 =...</td>\n",
       "    </tr>\n",
       "    <tr>\n",
       "      <th>3</th>\n",
       "      <td># write a program to find and print the smalle...</td>\n",
       "      <td>[nan,  num1 = 10\\n,  num2 = 12\\n,  num3 = 14\\n...</td>\n",
       "    </tr>\n",
       "    <tr>\n",
       "      <th>4</th>\n",
       "      <td># Write a python function to merge two given l...</td>\n",
       "      <td>[nan,  def merge_lists(l1,  l2):\\n,      retur...</td>\n",
       "    </tr>\n",
       "  </tbody>\n",
       "</table>\n",
       "</div>"
      ],
      "text/plain": [
       "                                                 src  \\\n",
       "0     # write a python program to add two numbers \\n   \n",
       "1  # write a python function to add two user prov...   \n",
       "2  # write a program to find and print the larges...   \n",
       "3  # write a program to find and print the smalle...   \n",
       "4  # Write a python function to merge two given l...   \n",
       "\n",
       "                                                 tgt  \n",
       "0  [nan,  num1 = 1.5\\n,  num2 = 6.3\\n,  sum = num...  \n",
       "1  [nan,  def add_two_numbers(num1,  num2):\\n,   ...  \n",
       "2  [nan,  \\n,  num1 = 10\\n,  num2 = 12\\n,  num3 =...  \n",
       "3  [nan,  num1 = 10\\n,  num2 = 12\\n,  num3 = 14\\n...  \n",
       "4  [nan,  def merge_lists(l1,  l2):\\n,      retur...  "
      ]
     },
     "execution_count": 64,
     "metadata": {},
     "output_type": "execute_result"
    }
   ],
   "source": [
    "#make each row of tgt a list with a single string\n",
    "df['tgt'] = df['tgt'].apply(lambda x: [str(x)])\n",
    "df['tgt'] = df['tgt'].apply(lambda x: x[0].split(','))\n",
    "df.head()"
   ]
  },
  {
   "cell_type": "code",
   "execution_count": 65,
   "metadata": {},
   "outputs": [
    {
     "data": {
      "text/html": [
       "<div>\n",
       "<style scoped>\n",
       "    .dataframe tbody tr th:only-of-type {\n",
       "        vertical-align: middle;\n",
       "    }\n",
       "\n",
       "    .dataframe tbody tr th {\n",
       "        vertical-align: top;\n",
       "    }\n",
       "\n",
       "    .dataframe thead th {\n",
       "        text-align: right;\n",
       "    }\n",
       "</style>\n",
       "<table border=\"1\" class=\"dataframe\">\n",
       "  <thead>\n",
       "    <tr style=\"text-align: right;\">\n",
       "      <th></th>\n",
       "      <th>src</th>\n",
       "      <th>tgt</th>\n",
       "    </tr>\n",
       "  </thead>\n",
       "  <tbody>\n",
       "    <tr>\n",
       "      <th>0</th>\n",
       "      <td># write a python program to add two numbers</td>\n",
       "      <td>[nan,  num1 = 1.5\\n,  num2 = 6.3\\n,  sum = num...</td>\n",
       "    </tr>\n",
       "    <tr>\n",
       "      <th>1</th>\n",
       "      <td># write a python function to add two user prov...</td>\n",
       "      <td>[nan,  def add_two_numbers(num1,  num2):\\n,   ...</td>\n",
       "    </tr>\n",
       "    <tr>\n",
       "      <th>2</th>\n",
       "      <td># write a program to find and print the larges...</td>\n",
       "      <td>[nan,  \\n,  num1 = 10\\n,  num2 = 12\\n,  num3 =...</td>\n",
       "    </tr>\n",
       "    <tr>\n",
       "      <th>3</th>\n",
       "      <td># write a program to find and print the smalle...</td>\n",
       "      <td>[nan,  num1 = 10\\n,  num2 = 12\\n,  num3 = 14\\n...</td>\n",
       "    </tr>\n",
       "    <tr>\n",
       "      <th>4</th>\n",
       "      <td># Write a python function to merge two given l...</td>\n",
       "      <td>[nan,  def merge_lists(l1,  l2):\\n,      retur...</td>\n",
       "    </tr>\n",
       "  </tbody>\n",
       "</table>\n",
       "</div>"
      ],
      "text/plain": [
       "                                                 src  \\\n",
       "0       # write a python program to add two numbers    \n",
       "1  # write a python function to add two user prov...   \n",
       "2  # write a program to find and print the larges...   \n",
       "3  # write a program to find and print the smalle...   \n",
       "4  # Write a python function to merge two given l...   \n",
       "\n",
       "                                                 tgt  \n",
       "0  [nan,  num1 = 1.5\\n,  num2 = 6.3\\n,  sum = num...  \n",
       "1  [nan,  def add_two_numbers(num1,  num2):\\n,   ...  \n",
       "2  [nan,  \\n,  num1 = 10\\n,  num2 = 12\\n,  num3 =...  \n",
       "3  [nan,  num1 = 10\\n,  num2 = 12\\n,  num3 = 14\\n...  \n",
       "4  [nan,  def merge_lists(l1,  l2):\\n,      retur...  "
      ]
     },
     "execution_count": 65,
     "metadata": {},
     "output_type": "execute_result"
    }
   ],
   "source": [
    "#remove \\n from each row of src\n",
    "df['src'] = df['src'].apply(lambda x: x.replace('\\n', ''))\n",
    "df.head()"
   ]
  },
  {
   "cell_type": "code",
   "execution_count": 66,
   "metadata": {},
   "outputs": [
    {
     "data": {
      "text/html": [
       "<div>\n",
       "<style scoped>\n",
       "    .dataframe tbody tr th:only-of-type {\n",
       "        vertical-align: middle;\n",
       "    }\n",
       "\n",
       "    .dataframe tbody tr th {\n",
       "        vertical-align: top;\n",
       "    }\n",
       "\n",
       "    .dataframe thead th {\n",
       "        text-align: right;\n",
       "    }\n",
       "</style>\n",
       "<table border=\"1\" class=\"dataframe\">\n",
       "  <thead>\n",
       "    <tr style=\"text-align: right;\">\n",
       "      <th></th>\n",
       "      <th>src</th>\n",
       "      <th>tgt</th>\n",
       "    </tr>\n",
       "  </thead>\n",
       "  <tbody>\n",
       "    <tr>\n",
       "      <th>0</th>\n",
       "      <td># write a python program to add two numbers</td>\n",
       "      <td>[ num1 = 1.5\\n,  num2 = 6.3\\n,  sum = num1 + n...</td>\n",
       "    </tr>\n",
       "    <tr>\n",
       "      <th>1</th>\n",
       "      <td># write a python function to add two user prov...</td>\n",
       "      <td>[ def add_two_numbers(num1,  num2):\\n,      su...</td>\n",
       "    </tr>\n",
       "    <tr>\n",
       "      <th>2</th>\n",
       "      <td># write a program to find and print the larges...</td>\n",
       "      <td>[ \\n,  num1 = 10\\n,  num2 = 12\\n,  num3 = 14\\n...</td>\n",
       "    </tr>\n",
       "    <tr>\n",
       "      <th>3</th>\n",
       "      <td># write a program to find and print the smalle...</td>\n",
       "      <td>[ num1 = 10\\n,  num2 = 12\\n,  num3 = 14\\n,  if...</td>\n",
       "    </tr>\n",
       "    <tr>\n",
       "      <th>4</th>\n",
       "      <td># Write a python function to merge two given l...</td>\n",
       "      <td>[ def merge_lists(l1,  l2):\\n,      return l1 ...</td>\n",
       "    </tr>\n",
       "  </tbody>\n",
       "</table>\n",
       "</div>"
      ],
      "text/plain": [
       "                                                 src  \\\n",
       "0       # write a python program to add two numbers    \n",
       "1  # write a python function to add two user prov...   \n",
       "2  # write a program to find and print the larges...   \n",
       "3  # write a program to find and print the smalle...   \n",
       "4  # Write a python function to merge two given l...   \n",
       "\n",
       "                                                 tgt  \n",
       "0  [ num1 = 1.5\\n,  num2 = 6.3\\n,  sum = num1 + n...  \n",
       "1  [ def add_two_numbers(num1,  num2):\\n,      su...  \n",
       "2  [ \\n,  num1 = 10\\n,  num2 = 12\\n,  num3 = 14\\n...  \n",
       "3  [ num1 = 10\\n,  num2 = 12\\n,  num3 = 14\\n,  if...  \n",
       "4  [ def merge_lists(l1,  l2):\\n,      return l1 ...  "
      ]
     },
     "execution_count": 66,
     "metadata": {},
     "output_type": "execute_result"
    }
   ],
   "source": [
    "#for each row of df remove the first element of tgt if its nan\n",
    "df['tgt'] = df['tgt'].apply(lambda x: x[1:] if x[0] == 'nan' else x)\n",
    "df.head()"
   ]
  },
  {
   "cell_type": "code",
   "execution_count": 67,
   "metadata": {},
   "outputs": [
    {
     "name": "stdout",
     "output_type": "stream",
     "text": [
      "# write a python program to add two numbers \n",
      "[' num1 = 1.5\\n', ' num2 = 6.3\\n', ' sum = num1 + num2\\n', \" print(f'Sum: {sum}')\\n\", ' \\n', ' \\n']\n"
     ]
    }
   ],
   "source": [
    "print(df['src'][0])\n",
    "print(df['tgt'][0])\n"
   ]
  },
  {
   "cell_type": "code",
   "execution_count": 68,
   "metadata": {},
   "outputs": [
    {
     "data": {
      "text/html": [
       "<div>\n",
       "<style scoped>\n",
       "    .dataframe tbody tr th:only-of-type {\n",
       "        vertical-align: middle;\n",
       "    }\n",
       "\n",
       "    .dataframe tbody tr th {\n",
       "        vertical-align: top;\n",
       "    }\n",
       "\n",
       "    .dataframe thead th {\n",
       "        text-align: right;\n",
       "    }\n",
       "</style>\n",
       "<table border=\"1\" class=\"dataframe\">\n",
       "  <thead>\n",
       "    <tr style=\"text-align: right;\">\n",
       "      <th></th>\n",
       "      <th>src</th>\n",
       "      <th>tgt</th>\n",
       "    </tr>\n",
       "  </thead>\n",
       "  <tbody>\n",
       "    <tr>\n",
       "      <th>0</th>\n",
       "      <td># write a python program to add two numbers</td>\n",
       "      <td>[ num1 = 1.5\\n,  num2 = 6.3\\n,  sum = num1 + n...</td>\n",
       "    </tr>\n",
       "    <tr>\n",
       "      <th>1</th>\n",
       "      <td># write a python function to add two user prov...</td>\n",
       "      <td>[ def add_two_numbers(num1,  num2):\\n,      su...</td>\n",
       "    </tr>\n",
       "    <tr>\n",
       "      <th>2</th>\n",
       "      <td># write a program to find and print the larges...</td>\n",
       "      <td>[ \\n,  num1 = 10\\n,  num2 = 12\\n,  num3 = 14\\n...</td>\n",
       "    </tr>\n",
       "    <tr>\n",
       "      <th>3</th>\n",
       "      <td># write a program to find and print the smalle...</td>\n",
       "      <td>[ num1 = 10\\n,  num2 = 12\\n,  num3 = 14\\n,  if...</td>\n",
       "    </tr>\n",
       "    <tr>\n",
       "      <th>4</th>\n",
       "      <td># Write a python function to merge two given l...</td>\n",
       "      <td>[ def merge_lists(l1,  l2):\\n,      return l1 ...</td>\n",
       "    </tr>\n",
       "  </tbody>\n",
       "</table>\n",
       "</div>"
      ],
      "text/plain": [
       "                                                 src  \\\n",
       "0       # write a python program to add two numbers    \n",
       "1  # write a python function to add two user prov...   \n",
       "2  # write a program to find and print the larges...   \n",
       "3  # write a program to find and print the smalle...   \n",
       "4  # Write a python function to merge two given l...   \n",
       "\n",
       "                                                 tgt  \n",
       "0  [ num1 = 1.5\\n,  num2 = 6.3\\n,  sum = num1 + n...  \n",
       "1  [ def add_two_numbers(num1,  num2):\\n,      su...  \n",
       "2  [ \\n,  num1 = 10\\n,  num2 = 12\\n,  num3 = 14\\n...  \n",
       "3  [ num1 = 10\\n,  num2 = 12\\n,  num3 = 14\\n,  if...  \n",
       "4  [ def merge_lists(l1,  l2):\\n,      return l1 ...  "
      ]
     },
     "execution_count": 68,
     "metadata": {},
     "output_type": "execute_result"
    }
   ],
   "source": [
    "\n",
    "df.head()"
   ]
  },
  {
   "cell_type": "code",
   "execution_count": 69,
   "metadata": {},
   "outputs": [
    {
     "data": {
      "text/html": [
       "<div>\n",
       "<style scoped>\n",
       "    .dataframe tbody tr th:only-of-type {\n",
       "        vertical-align: middle;\n",
       "    }\n",
       "\n",
       "    .dataframe tbody tr th {\n",
       "        vertical-align: top;\n",
       "    }\n",
       "\n",
       "    .dataframe thead th {\n",
       "        text-align: right;\n",
       "    }\n",
       "</style>\n",
       "<table border=\"1\" class=\"dataframe\">\n",
       "  <thead>\n",
       "    <tr style=\"text-align: right;\">\n",
       "      <th></th>\n",
       "      <th>src</th>\n",
       "      <th>tgt</th>\n",
       "    </tr>\n",
       "  </thead>\n",
       "  <tbody>\n",
       "    <tr>\n",
       "      <th>0</th>\n",
       "      <td># write a python program to add two numbers</td>\n",
       "      <td>[ num1 = 1.5,  num2 = 6.3,  sum = num1 + num2,...</td>\n",
       "    </tr>\n",
       "    <tr>\n",
       "      <th>1</th>\n",
       "      <td># write a python function to add two user prov...</td>\n",
       "      <td>[ def add_two_numbers(num1,  num2):,      sum ...</td>\n",
       "    </tr>\n",
       "    <tr>\n",
       "      <th>2</th>\n",
       "      <td># write a program to find and print the larges...</td>\n",
       "      <td>[ ,  num1 = 10,  num2 = 12,  num3 = 14,  if (n...</td>\n",
       "    </tr>\n",
       "    <tr>\n",
       "      <th>3</th>\n",
       "      <td># write a program to find and print the smalle...</td>\n",
       "      <td>[ num1 = 10,  num2 = 12,  num3 = 14,  if (num1...</td>\n",
       "    </tr>\n",
       "    <tr>\n",
       "      <th>4</th>\n",
       "      <td># Write a python function to merge two given l...</td>\n",
       "      <td>[ def merge_lists(l1,  l2):,      return l1 + ...</td>\n",
       "    </tr>\n",
       "  </tbody>\n",
       "</table>\n",
       "</div>"
      ],
      "text/plain": [
       "                                                 src  \\\n",
       "0       # write a python program to add two numbers    \n",
       "1  # write a python function to add two user prov...   \n",
       "2  # write a program to find and print the larges...   \n",
       "3  # write a program to find and print the smalle...   \n",
       "4  # Write a python function to merge two given l...   \n",
       "\n",
       "                                                 tgt  \n",
       "0  [ num1 = 1.5,  num2 = 6.3,  sum = num1 + num2,...  \n",
       "1  [ def add_two_numbers(num1,  num2):,      sum ...  \n",
       "2  [ ,  num1 = 10,  num2 = 12,  num3 = 14,  if (n...  \n",
       "3  [ num1 = 10,  num2 = 12,  num3 = 14,  if (num1...  \n",
       "4  [ def merge_lists(l1,  l2):,      return l1 + ...  "
      ]
     },
     "execution_count": 69,
     "metadata": {},
     "output_type": "execute_result"
    }
   ],
   "source": [
    "#remove \\n from each row of tgt\n",
    "df['tgt'] = df['tgt'].apply(lambda x: [i.replace('\\n', '') for i in x])\n",
    "df.head()"
   ]
  },
  {
   "cell_type": "code",
   "execution_count": 70,
   "metadata": {},
   "outputs": [
    {
     "name": "stdout",
     "output_type": "stream",
     "text": [
      "# write a python program to add two numbers \n",
      "[' num1 = 1.5', ' num2 = 6.3', ' sum = num1 + num2', \" print(f'Sum: {sum}')\", ' ', ' ']\n"
     ]
    }
   ],
   "source": [
    "print(df['src'][0])\n",
    "print(df['tgt'][0])"
   ]
  },
  {
   "cell_type": "code",
   "execution_count": null,
   "metadata": {},
   "outputs": [],
   "source": []
  }
 ],
 "metadata": {
  "kernelspec": {
   "display_name": "Python 3.10.8 64-bit (microsoft store)",
   "language": "python",
   "name": "python3"
  },
  "language_info": {
   "codemirror_mode": {
    "name": "ipython",
    "version": 3
   },
   "file_extension": ".py",
   "mimetype": "text/x-python",
   "name": "python",
   "nbconvert_exporter": "python",
   "pygments_lexer": "ipython3",
   "version": "3.10.8"
  },
  "orig_nbformat": 4,
  "vscode": {
   "interpreter": {
    "hash": "e785d1f9d3799c06ad193a992ec136c6f1c160eb13e70786a216d40efe557fa1"
   }
  }
 },
 "nbformat": 4,
 "nbformat_minor": 2
}
